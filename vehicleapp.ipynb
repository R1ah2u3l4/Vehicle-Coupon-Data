{
 "cells": [
  {
   "cell_type": "code",
   "execution_count": 151,
   "id": "d5ffef05",
   "metadata": {},
   "outputs": [],
   "source": [
    "import pandas as pd\n",
    "import streamlit as st\n",
    "import numpy as np\n",
    "import pickle"
   ]
  },
  {
   "cell_type": "code",
   "execution_count": 152,
   "id": "108f3495",
   "metadata": {},
   "outputs": [],
   "source": [
    "col1,col2,col3,col4,col5,col6,col7,col8 = st.columns(8)"
   ]
  },
  {
   "cell_type": "code",
   "execution_count": 153,
   "id": "7a979840",
   "metadata": {},
   "outputs": [],
   "source": [
    "import warnings\n",
    "warnings.filterwarnings(\"ignore\")"
   ]
  },
  {
   "cell_type": "code",
   "execution_count": 154,
   "id": "efb19657",
   "metadata": {},
   "outputs": [],
   "source": [
    "with col1:\n",
    "    ##destination\n",
    "    destination_display = ('No Urgent', 'Place', 'Home', 'Work')\n",
    "    destination_options = list(range(len(destination_display)))\n",
    "    destination = st.selectbox('destination',destination_options,\n",
    "                              format_func = lambda x: destination_display[x])\n",
    "    ##passanger\n",
    "    passanger_display = ('Alone', 'Friend(s)', 'Kid(s)', 'Partner')\n",
    "    passanger_options = list(range(len(passanger_display)))\n",
    "    passanger = st.selectbox('passanger',passanger_options,\n",
    "                              format_func = lambda x: passanger_display[x])\n",
    "    ##weather\n",
    "    weather_display = ('Sunny', 'Rainy', 'Snowy')\n",
    "    weather_options = list(range(len(weather_display)))\n",
    "    weather = st.selectbox('weather',weather_options,\n",
    "                              format_func = lambda x: weather_display[x])\n",
    "   "
   ]
  },
  {
   "cell_type": "code",
   "execution_count": 155,
   "id": "c5e75bf6",
   "metadata": {},
   "outputs": [],
   "source": [
    "with col2:\n",
    "    #temperature\n",
    "    temperature_display=('55', '80', '30')\n",
    "    temperature_options=list(range(len(temperature_display)))\n",
    "    temperature=st.selectbox('temperature',temperature_options,format_func=lambda x:temperature_display[x])\n",
    "    \n",
    "    #time\n",
    "    time_display=('2PM', '10AM', '6PM', '7AM', '10PM')\n",
    "    time_options=list(range(len(time_display)))\n",
    "    time=st.selectbox('time',time_options,format_func=lambda x:time_display[x])\n",
    "    \n",
    "    #coupon\n",
    "    coupon_display=('Restaurant(<$20)', 'Coffee House', 'Carry out & Take away', 'Bar', 'Restaurant($20-$50)')\n",
    "    coupon_options=list(range(len(coupon_display)))\n",
    "    coupon=st.selectbox('coupon',coupon_options,format_func=lambda x:coupon_display[x])"
   ]
  },
  {
   "cell_type": "code",
   "execution_count": 156,
   "id": "f4cdb923",
   "metadata": {},
   "outputs": [],
   "source": [
    "with col3:\n",
    "    #expiration\n",
    "    expiration_display=('1d', '2h (the coupon expires in 1 day or in 2 hours)')\n",
    "    expiration_options=list(range(len(expiration_display)))\n",
    "    expiration=st.selectbox('expiration',expiration_options,format_func=lambda x:expiration_display[x])\n",
    "    \n",
    "    #gender\n",
    "    gender_display=('Female', 'Male')\n",
    "    gender_options=list(range(len(gender_display)))\n",
    "    gender=st.selectbox('gender',gender_options,format_func=lambda x:gender_display[x])\n",
    "    \n",
    "    #age\n",
    "    age_display=('21', '46', '26', '31', '41', '50plus', '36', 'below21')\n",
    "    age_options=list(range(len(age_display)))\n",
    "    age=st.selectbox('age',age_options,format_func=lambda x:age_display[x])"
   ]
  },
  {
   "cell_type": "code",
   "execution_count": 157,
   "id": "ce611304",
   "metadata": {},
   "outputs": [],
   "source": [
    "with col4:\n",
    "    #maritalStatus\n",
    "    maritalStatus_display=('Unmarried partner', 'Single', 'Married partner', 'Divorced', 'Widowed')\n",
    "    maritalStatus_options=list(range(len(maritalStatus_display)))\n",
    "    maritalStatus=st.selectbox('maritalStatus',maritalStatus_options,format_func=lambda x:maritalStatus_display[x])\n",
    "    \n",
    "    #children\n",
    "    children_display=('1','0')\n",
    "    children_options=list(range(len(children_display)))\n",
    "    children=st.selectbox('children',children_options,format_func=lambda x:children_display[x])\n",
    "    \n",
    "    #education\n",
    "    education_display=('Some college - no degree', 'Bachelors degree', 'Associates degree', 'High School Graduate', \n",
    "                       'Graduate degree (Masters or Doctorate)', 'Some High School')\n",
    "    education_options=list(range(len(education_display)))\n",
    "    education=st.selectbox('education',education_options,format_func=lambda x:education_display[x])"
   ]
  },
  {
   "cell_type": "code",
   "execution_count": 158,
   "id": "96c26729",
   "metadata": {},
   "outputs": [],
   "source": [
    "with col5:\n",
    "    #occupation\n",
    "    occupation_display=('Unemployed', 'Architecture & Engineering', 'Student', 'Education&Training&Library', \n",
    "                        'Healthcare Support', 'Healthcare Practitioners & Technical', 'Sales & Related, Management', \n",
    "                        'Arts Design Entertainment Sports & Media', 'Computer & Mathematical', 'Life Physical Social Science',\n",
    "                        'Personal Care & Service', 'Community & Social Services', 'Office & Administrative Support', \n",
    "                        'Construction & Extraction', 'Legal', 'Retired', 'Installation Maintenance & Repair',\n",
    "                        'Transportation & Material Moving', 'Business & Financial', 'Protective Service', \n",
    "                        'Food Preparation & Serving Related', 'Production Occupations', 'Building & Grounds Cleaning & Maintenance'\n",
    "                        , 'Farming Fishing & Forestry')\n",
    "    occupation_options=list(range(len(occupation_display)))\n",
    "    occupation=st.selectbox('occupation',occupation_options,format_func=lambda x:occupation_display[x])\n",
    "    \n",
    "    #income\n",
    "    income_display=('$37500 - $49999', '$62500 - $74999', '$12500 - $24999', '$75000 - $87499', '$50000 - $62499',\n",
    "                    '$25000 - $37499', '$100000 or More', '$87500 - $99999', 'Less than $12500')\n",
    "    income_options=list(range(len(income_display)))\n",
    "    income=st.selectbox('income',income_options,format_func=lambda x:income_display[x])\n",
    "    \n",
    "    #Bar\n",
    "    Bar_display=('never', 'less1', '1~3', 'gt8',  'nan4~8 ')\n",
    "    Bar_options=list(range(len(Bar_display)))\n",
    "    Bar=st.selectbox('Bar',Bar_options,format_func=lambda x:Bar_display[x])\n"
   ]
  },
  {
   "cell_type": "code",
   "execution_count": 159,
   "id": "4ad29cc5",
   "metadata": {},
   "outputs": [],
   "source": [
    "with col6:\n",
    "    #CoffeeHouse\n",
    "    CoffeeHouse_display=('never', 'less1', '4~8', '1~3', 'gt8','nan')\n",
    "    CoffeeHouse_options=list(range(len(CoffeeHouse_display)))\n",
    "    CoffeeHouse=st.selectbox('CoffeeHouse',CoffeeHouse_options,format_func=lambda x:CoffeeHouse_display[x])\n",
    "    \n",
    "    #CarryAway\n",
    "    CarryAway_display=('n4~8', '1~3', 'gt8', 'less1', \n",
    "                       'never')\n",
    "    CarryAway_options=list(range(len(CarryAway_display)))\n",
    "    CarryAway=st.selectbox('CarryAway',CarryAway_options,format_func=lambda x:CarryAway_display[x])\n",
    "    \n",
    "    #RestaurantLessThan20\n",
    "    RestaurantLessThan20_display=( '4~8', '1~3', 'less1', 'gt8',\n",
    "                                  'never')\n",
    "    RestaurantLessThan20_options=list(range(len(RestaurantLessThan20_display)))\n",
    "    RestaurantLessThan20=st.selectbox('RestaurantLessThan20',RestaurantLessThan20_options,format_func=lambda x:RestaurantLessThan20_display[x])"
   ]
  },
  {
   "cell_type": "code",
   "execution_count": 160,
   "id": "525250eb",
   "metadata": {},
   "outputs": [],
   "source": [
    "with col7:\n",
    "    #Restaurant20To50\n",
    "    Restaurant20To50_display=('1~3', 'less1', 'never', 'gt8', '4~8',\n",
    "                              'nan')\n",
    "    Restaurant20To50_options=list(range(len(Restaurant20To50_display)))\n",
    "    Restaurant20To50=st.selectbox('Restaurant20To50',Restaurant20To50_options,format_func=lambda x:Restaurant20To50_display[x])\n",
    "    \n",
    "    #toCoupon_GEQ15min\n",
    "    toCoupon_GEQ15min_display=('0','1')\n",
    "    toCoupon_GEQ15min_options=list(range(len(toCoupon_GEQ15min_display)))\n",
    "    toCoupon_GEQ15min=st.selectbox('toCoupon_GEQ15min',toCoupon_GEQ15min_options,format_func=lambda x:toCoupon_GEQ15min_display[x])\n",
    "    \n",
    "    #toCoupon_GEQ25min\n",
    "    toCoupon_GEQ25min_display=('0', '1 ')\n",
    "    toCoupon_GEQ25min_options=list(range(len(toCoupon_GEQ25min_display)))\n",
    "    toCoupon_GEQ25min=st.selectbox('toCoupon_GEQ25min',toCoupon_GEQ25min_options,format_func=lambda x:toCoupon_GEQ25min_display[x])"
   ]
  },
  {
   "cell_type": "code",
   "execution_count": 161,
   "id": "94c59e9b",
   "metadata": {},
   "outputs": [],
   "source": [
    "with col8:\n",
    "   \n",
    "    #direction_same\n",
    "    direction_same_display=('0', '1')\n",
    "    direction_same_options=list(range(len(direction_same_display)))\n",
    "    direction_same=st.selectbox('direction_same',direction_same_options,format_func=lambda x:direction_same_display[x])\n",
    "    \n",
    "    #direction_opp\n",
    "    direction_opp_display=('1', '0 ')\n",
    "    direction_opp_options=list(range(len(direction_opp_display)))\n",
    "    direction_opp=st.selectbox('direction_opp',direction_opp_options,format_func=lambda x:direction_opp_display[x])"
   ]
  },
  {
   "cell_type": "code",
   "execution_count": 162,
   "id": "7a85c3ac",
   "metadata": {},
   "outputs": [],
   "source": [
    "model = pickle.load(open('gbmmodel.pkl', 'rb'))  ### rb indiactes read "
   ]
  },
  {
   "cell_type": "code",
   "execution_count": 163,
   "id": "32df1696",
   "metadata": {},
   "outputs": [],
   "source": [
    "my_dict={'destination':destination,'passanger':passanger,'weather':weather,'temperature':temperature,'time':time,\n",
    "         'coupon':coupon,'expiration':expiration,'gender':gender,'age':age,'maritalStatus':maritalStatus,\n",
    "         'has_children':children,'education':education,'occupation':occupation,'income':income,'Bar':Bar,\n",
    "         'CoffeeHouse':CoffeeHouse,'CarryAway':CarryAway,'RestaurantLessThan20':RestaurantLessThan20,\n",
    "         'Restaurant20To50':Restaurant20To50,'toCoupon_GEQ15min':toCoupon_GEQ15min,'toCoupon_GEQ25min':toCoupon_GEQ25min,\n",
    "        'direction_same':direction_same,'direction_opp':direction_opp}"
   ]
  },
  {
   "cell_type": "code",
   "execution_count": 164,
   "id": "14493406",
   "metadata": {},
   "outputs": [],
   "source": [
    "df = pd.DataFrame([my_dict])\n",
    "df = pd.get_dummies(df).reindex(columns=df.columns, fill_value=0)"
   ]
  },
  {
   "cell_type": "code",
   "execution_count": 165,
   "id": "f5d197aa",
   "metadata": {},
   "outputs": [],
   "source": [
    "if st.button(\"Predict\"):\n",
    "    result = model.predict(df)\n",
    "    probability = model.predict_proba(df)\n",
    "    st.text(result[0])\n",
    "    st.text(probability[0])"
   ]
  }
 ],
 "metadata": {
  "kernelspec": {
   "display_name": "Python 3 (ipykernel)",
   "language": "python",
   "name": "python3"
  },
  "language_info": {
   "codemirror_mode": {
    "name": "ipython",
    "version": 3
   },
   "file_extension": ".py",
   "mimetype": "text/x-python",
   "name": "python",
   "nbconvert_exporter": "python",
   "pygments_lexer": "ipython3",
   "version": "3.11.7"
  }
 },
 "nbformat": 4,
 "nbformat_minor": 5
}
